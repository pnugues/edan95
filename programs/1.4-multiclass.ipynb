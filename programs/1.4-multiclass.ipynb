{
 "cells": [
  {
   "cell_type": "markdown",
   "metadata": {},
   "source": [
    "# Introduction to Neural Networks: Classification with Multiple Categories\n",
    "\n",
    "Author: Pierre Nugues"
   ]
  },
  {
   "cell_type": "markdown",
   "metadata": {},
   "source": [
    "## Fisher's Dataset on Irises\n",
    "Ronald Fisher,  The use of multiple measurements in taxonomic problems, _Annals of Eugenics_, 1936 (https://onlinelibrary.wiley.com/doi/epdf/10.1111/j.1469-1809.1936.tb02137.x)"
   ]
  },
  {
   "cell_type": "code",
   "execution_count": null,
   "metadata": {},
   "outputs": [],
   "source": [
    "import numpy as np\n",
    "\n",
    "X = np.array([[5.1, 3.5, 1.4, 0.2],\n",
    "     [4.9, 3.0, 1.4, 0.2],\n",
    "     [4.7, 3.2, 1.3, 0.2],\n",
    "     [4.6, 3.1, 1.5, 0.2],\n",
    "     [5., 3.6, 1.4, 0.2],\n",
    "     [5.4, 3.9, 1.7, 0.4],\n",
    "     [4.6, 3.4, 1.4, 0.3],\n",
    "     [5., 3.4, 1.5, 0.2],\n",
    "     [4.4, 2.9, 1.4, 0.2],\n",
    "     [4.9, 3.1, 1.5, 0.1],\n",
    "     [5.4, 3.7, 1.5, 0.2],\n",
    "     [4.8, 3.4, 1.6, 0.2],\n",
    "     [4.8, 3., 1.4, 0.1],\n",
    "     [4.3, 3., 1.1, 0.1],\n",
    "     [5.8, 4., 1.2, 0.2],\n",
    "     [5.7, 4.4, 1.5, 0.4],\n",
    "     [5.4, 3.9, 1.3, 0.4],\n",
    "     [5.1, 3.5, 1.4, 0.3],\n",
    "     [5.7, 3.8, 1.7, 0.3],\n",
    "     [5.1, 3.8, 1.5, 0.3],\n",
    "     [5.4, 3.4, 1.7, 0.2],\n",
    "     [5.1, 3.7, 1.5, 0.4],\n",
    "     [4.6, 3.6, 1., 0.2],\n",
    "     [5.1, 3.3, 1.7, 0.5],\n",
    "     [4.8, 3.4, 1.9, 0.2],\n",
    "     [5., 3., 1.6, 0.2],\n",
    "     [5., 3.4, 1.6, 0.4],\n",
    "     [5.2, 3.5, 1.5, 0.2],\n",
    "     [5.2, 3.4, 1.4, 0.2],\n",
    "     [4.7, 3.2, 1.6, 0.2],\n",
    "     [4.8, 3.1, 1.6, 0.2],\n",
    "     [5.4, 3.4, 1.5, 0.4],\n",
    "     [5.2, 4.1, 1.5, 0.1],\n",
    "     [5.5, 4.2, 1.4, 0.2],\n",
    "     [4.9, 3.1, 1.5, 0.1],\n",
    "     [5., 3.2, 1.2, 0.2],\n",
    "     [5.5, 3.5, 1.3, 0.2],\n",
    "     [4.9, 3.1, 1.5, 0.1],\n",
    "     [4.4, 3., 1.3, 0.2],\n",
    "     [5.1, 3.4, 1.5, 0.2],\n",
    "     [5., 3.5, 1.3, 0.3],\n",
    "     [4.5, 2.3, 1.3, 0.3],\n",
    "     [4.4, 3.2, 1.3, 0.2],\n",
    "     [5., 3.5, 1.6, 0.6],\n",
    "     [5.1, 3.8, 1.9, 0.4],\n",
    "     [4.8, 3., 1.4, 0.3],\n",
    "     [5.1, 3.8, 1.6, 0.2],\n",
    "     [4.6, 3.2, 1.4, 0.2],\n",
    "     [5.3, 3.7, 1.5, 0.2],\n",
    "     [5., 3.3, 1.4, 0.2],\n",
    "     [7., 3.2, 4.7, 1.4],\n",
    "     [6.4, 3.2, 4.5, 1.5],\n",
    "     [6.9, 3.1, 4.9, 1.5],\n",
    "     [5.5, 2.3, 4., 1.3],\n",
    "     [6.5, 2.8, 4.6, 1.5],\n",
    "     [5.7, 2.8, 4.5, 1.3],\n",
    "     [6.3, 3.3, 4.7, 1.6],\n",
    "     [4.9, 2.4, 3.3, 1.],\n",
    "     [6.6, 2.9, 4.6, 1.3],\n",
    "     [5.2, 2.7, 3.9, 1.4],\n",
    "     [5., 2., 3.5, 1.],\n",
    "     [5.9, 3., 4.2, 1.5],\n",
    "     [6., 2.2, 4., 1.],\n",
    "     [6.1, 2.9, 4.7, 1.4],\n",
    "     [5.6, 2.9, 3.6, 1.3],\n",
    "     [6.7, 3.1, 4.4, 1.4],\n",
    "     [5.6, 3., 4.5, 1.5],\n",
    "     [5.8, 2.7, 4.1, 1.],\n",
    "     [6.2, 2.2, 4.5, 1.5],\n",
    "     [5.6, 2.5, 3.9, 1.1],\n",
    "     [5.9, 3.2, 4.8, 1.8],\n",
    "     [6.1, 2.8, 4., 1.3],\n",
    "     [6.3, 2.5, 4.9, 1.5],\n",
    "     [6.1, 2.8, 4.7, 1.2],\n",
    "     [6.4, 2.9, 4.3, 1.3],\n",
    "     [6.6, 3., 4.4, 1.4],\n",
    "     [6.8, 2.8, 4.8, 1.4],\n",
    "     [6.7, 3., 5., 1.7],\n",
    "     [6., 2.9, 4.5, 1.5],\n",
    "     [5.7, 2.6, 3.5, 1.],\n",
    "     [5.5, 2.4, 3.8, 1.1],\n",
    "     [5.5, 2.4, 3.7, 1.],\n",
    "     [5.8, 2.7, 3.9, 1.2],\n",
    "     [6., 2.7, 5.1, 1.6],\n",
    "     [5.4, 3., 4.5, 1.5],\n",
    "     [6., 3.4, 4.5, 1.6],\n",
    "     [6.7, 3.1, 4.7, 1.5],\n",
    "     [6.3, 2.3, 4.4, 1.3],\n",
    "     [5.6, 3., 4.1, 1.3],\n",
    "     [5.5, 2.5, 4., 1.3],\n",
    "     [5.5, 2.6, 4.4, 1.2],\n",
    "     [6.1, 3., 4.6, 1.4],\n",
    "     [5.8, 2.6, 4., 1.2],\n",
    "     [5., 2.3, 3.3, 1.],\n",
    "     [5.6, 2.7, 4.2, 1.3],\n",
    "     [5.7, 3., 4.2, 1.2],\n",
    "     [5.7, 2.9, 4.2, 1.3],\n",
    "     [6.2, 2.9, 4.3, 1.3],\n",
    "     [5.1, 2.5, 3., 1.1],\n",
    "     [5.7, 2.8, 4.1, 1.3],\n",
    "     [6.3, 3.3, 6., 2.5],\n",
    "     [5.8, 2.7, 5.1, 1.9],\n",
    "     [7.1, 3., 5.9, 2.1],\n",
    "     [6.3, 2.9, 5.6, 1.8],\n",
    "     [6.5, 3., 5.8, 2.2],\n",
    "     [7.6, 3., 6.6, 2.1],\n",
    "     [4.9, 2.5, 4.5, 1.7],\n",
    "     [7.3, 2.9, 6.3, 1.8],\n",
    "     [6.7, 2.5, 5.8, 1.8],\n",
    "     [7.2, 3.6, 6.1, 2.5],\n",
    "     [6.5, 3.2, 5.1, 2.],\n",
    "     [6.4, 2.7, 5.3, 1.9],\n",
    "     [6.8, 3., 5.5, 2.1],\n",
    "     [5.7, 2.5, 5., 2.],\n",
    "     [5.8, 2.8, 5.1, 2.4],\n",
    "     [6.4, 3.2, 5.3, 2.3],\n",
    "     [6.5, 3., 5.5, 1.8],\n",
    "     [7.7, 3.8, 6.7, 2.2],\n",
    "     [7.7, 2.6, 6.9, 2.3],\n",
    "     [6., 2.2, 5., 1.5],\n",
    "     [6.9, 3.2, 5.7, 2.3],\n",
    "     [5.6, 2.8, 4.9, 2.],\n",
    "     [7.7, 2.8, 6.7, 2.],\n",
    "     [6.3, 2.7, 4.9, 1.8],\n",
    "     [6.7, 3.3, 5.7, 2.1],\n",
    "     [7.2, 3.2, 6., 1.8],\n",
    "     [6.2, 2.8, 4.8, 1.8],\n",
    "     [6.1, 3., 4.9, 1.8],\n",
    "     [6.4, 2.8, 5.6, 2.1],\n",
    "     [7.2, 3., 5.8, 1.6],\n",
    "     [7.4, 2.8, 6.1, 1.9],\n",
    "     [7.9, 3.8, 6.4, 2.],\n",
    "     [6.4, 2.8, 5.6, 2.2],\n",
    "     [6.3, 2.8, 5.1, 1.5],\n",
    "     [6.1, 2.6, 5.6, 1.4],\n",
    "     [7.7, 3., 6.1, 2.3],\n",
    "     [6.3, 3.4, 5.6, 2.4],\n",
    "     [6.4, 3.1, 5.5, 1.8],\n",
    "     [6., 3., 4.8, 1.8],\n",
    "     [6.9, 3.1, 5.4, 2.1],\n",
    "     [6.7, 3.1, 5.6, 2.4],\n",
    "     [6.9, 3.1, 5.1, 2.3],\n",
    "     [5.8, 2.7, 5.1, 1.9],\n",
    "     [6.8, 3.2, 5.9, 2.3],\n",
    "     [6.7, 3.3, 5.7, 2.5],\n",
    "     [6.7, 3., 5.2, 2.3],\n",
    "     [6.3, 2.5, 5., 1.9],\n",
    "     [6.5, 3., 5.2, 2.],\n",
    "     [6.2, 3.4, 5.4, 2.3],\n",
    "     [5.9, 3., 5.1, 1.8]])\n",
    "\n",
    "y = np.array([0, 0, 0, 0, 0, 0, 0, 0, 0, 0, 0, 0, 0, 0, 0, 0, 0, 0, 0, 0, 0, 0, 0, 0, 0, 0, 0, 0, 0, 0, 0, 0, 0, 0, 0, 0, 0, 0,\n",
    "     0, 0, 0, 0, 0, 0, 0, 0, 0, 0, 0, 0, 1, 1, 1, 1, 1, 1, 1, 1, 1, 1, 1, 1, 1, 1, 1, 1, 1, 1, 1, 1, 1, 1, 1, 1, 1, 1,\n",
    "     1, 1, 1, 1, 1, 1, 1, 1, 1, 1, 1, 1, 1, 1, 1, 1, 1, 1, 1, 1, 1, 1, 1, 1, 2, 2, 2, 2, 2, 2, 2, 2, 2, 2, 2, 2, 2, 2,\n",
    "     2, 2, 2, 2, 2, 2, 2, 2, 2, 2, 2, 2, 2, 2, 2, 2, 2, 2, 2, 2, 2, 2, 2, 2, 2, 2, 2, 2, 2, 2, 2, 2, 2, 2, 2, 2])\n",
    "len(y)"
   ]
  },
  {
   "cell_type": "markdown",
   "metadata": {},
   "source": [
    "## A Model for Multiple Categories"
   ]
  },
  {
   "cell_type": "markdown",
   "metadata": {},
   "source": [
    "We use the softmax activation and a categorical entrpopy loss"
   ]
  },
  {
   "cell_type": "code",
   "execution_count": null,
   "metadata": {},
   "outputs": [],
   "source": [
    "import matplotlib.pyplot as plt\n",
    "from tensorflow.keras.datasets import reuters\n",
    "from tensorflow.keras import models\n",
    "from tensorflow.keras import layers\n",
    "\n",
    "np.random.seed(0)\n",
    "model = models.Sequential([\n",
    "    layers.Dense(10, activation='relu', input_shape=(4,)),\n",
    "    layers.Dense(3, activation='softmax')])\n",
    "\n",
    "model.compile(optimizer='nadam', loss='categorical_crossentropy', \n",
    "              metrics=['accuracy'])\n",
    "model.summary()"
   ]
  },
  {
   "cell_type": "markdown",
   "metadata": {},
   "source": [
    "## Shuffling the Indices"
   ]
  },
  {
   "cell_type": "markdown",
   "metadata": {},
   "source": [
    "We shuffle the index to have a sample of all classes in the validation set"
   ]
  },
  {
   "cell_type": "code",
   "execution_count": null,
   "metadata": {},
   "outputs": [],
   "source": [
    "indices = list(range(len(y)))\n",
    "np.random.shuffle(indices)\n",
    "X = X[indices]\n",
    "y = y[indices]\n",
    "y[:10]"
   ]
  },
  {
   "cell_type": "markdown",
   "metadata": {},
   "source": [
    "## Converting to One Hot Codes"
   ]
  },
  {
   "cell_type": "markdown",
   "metadata": {},
   "source": [
    "With Keras, the $y$ vector is one-hot encoded."
   ]
  },
  {
   "cell_type": "code",
   "execution_count": null,
   "metadata": {},
   "outputs": [],
   "source": [
    "y[:5]"
   ]
  },
  {
   "cell_type": "code",
   "execution_count": null,
   "metadata": {},
   "outputs": [],
   "source": [
    "from tensorflow.keras.utils import to_categorical\n",
    "Y_cat = to_categorical(y)\n",
    "Y_cat[:5]"
   ]
  },
  {
   "cell_type": "markdown",
   "metadata": {},
   "source": [
    "## Fitting the Data"
   ]
  },
  {
   "cell_type": "code",
   "execution_count": null,
   "metadata": {},
   "outputs": [],
   "source": [
    "X_train = X[:120]\n",
    "Y_train_cat = Y_cat[:120]\n",
    "\n",
    "X_val = X[120:]\n",
    "y_val = y[120:]\n",
    "Y_val_cat = Y_cat[120:]\n",
    "\n",
    "history = model.fit(X_train, Y_train_cat, \n",
    "                    epochs=80, batch_size=1, \n",
    "                    validation_data=(X_val, Y_val_cat),\n",
    "                    verbose=0)\n",
    "model.evaluate(X_val, Y_val_cat)"
   ]
  },
  {
   "cell_type": "markdown",
   "metadata": {},
   "source": [
    "## Visualizing the Accuracy and the Loss"
   ]
  },
  {
   "cell_type": "code",
   "execution_count": null,
   "metadata": {},
   "outputs": [],
   "source": [
    "acc = history.history['accuracy']\n",
    "val_acc = history.history['val_accuracy']\n",
    "loss = history.history['loss']\n",
    "val_loss = history.history['val_loss']\n",
    "\n",
    "epochs = range(1, len(acc) + 1)\n",
    "plt.plot(epochs, loss, 'bo', label='Training loss')\n",
    "plt.plot(epochs, val_loss, 'b', label='Validation loss')\n",
    "plt.title('Training and validation loss')\n",
    "plt.xlabel('Epochs')\n",
    "plt.ylabel('Loss')\n",
    "plt.legend()\n",
    "plt.show()\n",
    "\n",
    "plt.clf()\n",
    "acc_values = history.history['accuracy']\n",
    "val_acc_values = history.history['val_accuracy']\n",
    "plt.plot(epochs, acc, 'bo', label='Training acc')\n",
    "plt.plot(epochs, val_acc, 'b', label='Validation acc')\n",
    "plt.title('Training and validation accuracy')\n",
    "plt.xlabel('Epochs')\n",
    "plt.ylabel('Accuracy')\n",
    "plt.show()"
   ]
  },
  {
   "cell_type": "markdown",
   "metadata": {},
   "source": [
    "## Prediction"
   ]
  },
  {
   "cell_type": "markdown",
   "metadata": {},
   "source": [
    "The prediction results in a vector of probabilities"
   ]
  },
  {
   "cell_type": "code",
   "execution_count": null,
   "metadata": {
    "scrolled": true
   },
   "outputs": [],
   "source": [
    "print('Observation 121')\n",
    "print('Prediction probabilities:', model.predict(np.array([X[121]])))\n",
    "print('Predicted class:', np.argmax(model.predict(np.array([X[121]]))))\n",
    "print('Observed value:', y[121])"
   ]
  },
  {
   "cell_type": "markdown",
   "metadata": {},
   "source": [
    "More observations"
   ]
  },
  {
   "cell_type": "code",
   "execution_count": null,
   "metadata": {},
   "outputs": [],
   "source": [
    "print('The original categories:\\n', y[121:126])\n",
    "print('The encoded categories:\\n', Y_cat[121:126])\n",
    "print('The predicted probabilities:\\n', model.predict(X[121:126]))\n",
    "print('The predicted classes:\\n', list(map(np.argmax, model.predict(X[121:126]))))"
   ]
  },
  {
   "cell_type": "markdown",
   "metadata": {},
   "source": [
    "## Computing the Loss"
   ]
  },
  {
   "cell_type": "markdown",
   "metadata": {},
   "source": [
    "We compute the loss as in the binary case"
   ]
  },
  {
   "cell_type": "code",
   "execution_count": null,
   "metadata": {},
   "outputs": [],
   "source": [
    "from math import log\n",
    "X_val_prob = model.predict(X_val)\n",
    "loss = -sum([log(X_val_prob[i, y_val[i]]) \n",
    "             for i in range(len(y_val))])/len(y_val)\n",
    "loss"
   ]
  },
  {
   "cell_type": "markdown",
   "metadata": {},
   "source": [
    "## Another way to encode the targets"
   ]
  },
  {
   "cell_type": "markdown",
   "metadata": {},
   "source": [
    "The encoding of the target can be tedious. We can use `sparse_categorical_crossentropy` to simplify it."
   ]
  },
  {
   "cell_type": "code",
   "execution_count": null,
   "metadata": {},
   "outputs": [],
   "source": [
    "model2 = models.Sequential([\n",
    "    layers.Dense(10, activation='relu', input_shape=(4,)),\n",
    "    layers.Dense(3, activation='softmax')])\n",
    "\n",
    "model2.compile(optimizer='nadam', loss='sparse_categorical_crossentropy', \n",
    "              metrics=['accuracy'])\n",
    "model2.summary()"
   ]
  },
  {
   "cell_type": "markdown",
   "metadata": {},
   "source": [
    "We do not need to use a one-hot encoding for $y$. Although more intuitive, this encoding no longer shows its relation to cross entropy."
   ]
  },
  {
   "cell_type": "code",
   "execution_count": null,
   "metadata": {},
   "outputs": [],
   "source": [
    "X_train = X[:120]\n",
    "y_train= y[:120]\n",
    "X_val = X[120:]\n",
    "y_val = y[120:]\n",
    "y_val[:10]"
   ]
  },
  {
   "cell_type": "markdown",
   "metadata": {},
   "source": [
    "We fit the model with $y$ classes encoded as integers"
   ]
  },
  {
   "cell_type": "code",
   "execution_count": null,
   "metadata": {},
   "outputs": [],
   "source": [
    "history = model2.fit(X_train, y_train, \n",
    "                     epochs=80, batch_size=1, \n",
    "                     validation_data=(X_val, y_val),\n",
    "                     verbose=0)\n",
    "model2.evaluate(X_val, y_val)"
   ]
  },
  {
   "cell_type": "markdown",
   "metadata": {},
   "source": [
    "And we obtain the same results"
   ]
  },
  {
   "cell_type": "code",
   "execution_count": null,
   "metadata": {},
   "outputs": [],
   "source": [
    "print('The original categories:\\n', y[121:126])\n",
    "print('The predicted probabilities:\\n', model2.predict(X[121:126]))\n",
    "print('The predicted classes:\\n', list(map(np.argmax, model2.predict(X[121:126]))))"
   ]
  },
  {
   "cell_type": "code",
   "execution_count": null,
   "metadata": {},
   "outputs": [],
   "source": []
  }
 ],
 "metadata": {
  "kernelspec": {
   "display_name": "Python 3 (ipykernel)",
   "language": "python",
   "name": "python3"
  },
  "language_info": {
   "codemirror_mode": {
    "name": "ipython",
    "version": 3
   },
   "file_extension": ".py",
   "mimetype": "text/x-python",
   "name": "python",
   "nbconvert_exporter": "python",
   "pygments_lexer": "ipython3",
   "version": "3.8.12"
  }
 },
 "nbformat": 4,
 "nbformat_minor": 4
}
