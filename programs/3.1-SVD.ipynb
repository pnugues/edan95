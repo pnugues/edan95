{
 "cells": [
  {
   "cell_type": "markdown",
   "metadata": {},
   "source": [
    "# Singular Value Decomposition\n",
    "Author: Pierre Nugues"
   ]
  },
  {
   "cell_type": "markdown",
   "metadata": {},
   "source": [
    "Principal component analysis on characters of Salammbô. French and English chapters"
   ]
  },
  {
   "cell_type": "code",
   "execution_count": null,
   "metadata": {},
   "outputs": [],
   "source": [
    "import numpy as np\n",
    "from sklearn.preprocessing import StandardScaler, Normalizer\n",
    "import matplotlib.pyplot as plt\n",
    "from mpl_toolkits.mplot3d import Axes3D\n",
    "from sklearn.decomposition import PCA\n",
    "from statistics import mean, stdev"
   ]
  },
  {
   "cell_type": "markdown",
   "metadata": {},
   "source": [
    "## Utilities"
   ]
  },
  {
   "cell_type": "markdown",
   "metadata": {},
   "source": [
    "### We build the indices"
   ]
  },
  {
   "cell_type": "code",
   "execution_count": null,
   "metadata": {},
   "outputs": [],
   "source": [
    "def merge_dicts(dict_list):\n",
    "    \"\"\"\n",
    "    Merges a list of dictionaries\n",
    "    :param dict_list:\n",
    "    :return:\n",
    "    \"\"\"\n",
    "    dict_collector = {}\n",
    "    for dict in dict_list:\n",
    "        for key in dict:\n",
    "            if key in dict_collector:\n",
    "                dict_collector[key] += dict[key]\n",
    "            else:\n",
    "                dict_collector[key] = dict[key]\n",
    "    return dict_collector\n",
    "\n",
    "\n",
    "def build_idx_from_list(documents):\n",
    "    \"\"\"\n",
    "    Builds indexes for the documents (rows)\n",
    "    Build reverse index\n",
    "    :param documents:\n",
    "    :param chars:\n",
    "    :return:\n",
    "    \"\"\"\n",
    "    idx_doc = {idx: file for idx, file in enumerate(documents)}\n",
    "    doc_idx = {value: key for key, value in idx_doc.items()}\n",
    "    return doc_idx, idx_doc\n",
    "\n",
    "\n",
    "def build_idx_from_dict(chars):\n",
    "    \"\"\"\n",
    "    Builds indexes for the characters (columns)\n",
    "    Build reverse index\n",
    "    :param documents:\n",
    "    :param chars:\n",
    "    :return:\n",
    "    \"\"\"\n",
    "    idx_char = {idx: char for idx, char in enumerate(sorted(chars.keys()))}\n",
    "    char_idx = {value: key for key, value in idx_char.items()}\n",
    "    return char_idx, idx_char"
   ]
  },
  {
   "cell_type": "markdown",
   "metadata": {},
   "source": [
    "### We count the letters"
   ]
  },
  {
   "cell_type": "code",
   "execution_count": null,
   "metadata": {},
   "outputs": [],
   "source": [
    "def count_letters(text, lc=True):\n",
    "    letter_count = {}\n",
    "    if lc:\n",
    "        text = text.lower()\n",
    "    for letter in text:\n",
    "        if letter.lower().isalpha():\n",
    "            if letter in letter_count:\n",
    "                letter_count[letter] += 1\n",
    "            else:\n",
    "                letter_count[letter] = 1\n",
    "    return letter_count"
   ]
  },
  {
   "cell_type": "markdown",
   "metadata": {},
   "source": [
    "### We build the matrices"
   ]
  },
  {
   "cell_type": "code",
   "execution_count": null,
   "metadata": {},
   "outputs": [],
   "source": [
    "def build_matrix(doc_idx, idx_doc, char_idx, idx_char, counts_by_chapter):\n",
    "    X = np.zeros((len(doc_idx.keys()), len(char_idx.keys())))\n",
    "    for i in idx_doc.keys():\n",
    "        for j in idx_char.keys():\n",
    "            if idx_char[j] in counts_by_chapter[i]:\n",
    "                X[i, j] = counts_by_chapter[i][idx_char[j]]\n",
    "    return X\n",
    "\n",
    "\n",
    "def print_matrix(idx_doc, idx_char, X):\n",
    "    print(\",\", end='')\n",
    "    for i in idx_char.keys():\n",
    "        print(idx_char[i], \", \", end='')\n",
    "    print()\n",
    "    for i in idx_doc.keys():\n",
    "        print(idx_doc[i], \", \", end='')\n",
    "        for j in idx_char.keys():\n",
    "            print(X[i, j], \", \", end='')\n",
    "        print()"
   ]
  },
  {
   "cell_type": "markdown",
   "metadata": {},
   "source": [
    "## The document by character matrix"
   ]
  },
  {
   "cell_type": "markdown",
   "metadata": {},
   "source": [
    "### We create the file names"
   ]
  },
  {
   "cell_type": "code",
   "execution_count": null,
   "metadata": {},
   "outputs": [],
   "source": [
    "np.set_printoptions(precision=4)\n",
    "\n",
    "base = '../../EDAN20/programs/corpus/Salammbo/'\n",
    "english_chapters = ['salammbo_en_ch01.txt', 'salammbo_en_ch02.txt', 'salammbo_en_ch03.txt',\n",
    "                    'salammbo_en_ch04.txt', 'salammbo_en_ch05.txt', 'salammbo_en_ch06.txt',\n",
    "                    'salammbo_en_ch07.txt', 'salammbo_en_ch08.txt', 'salammbo_en_ch09.txt',\n",
    "                    'salammbo_en_ch10.txt', 'salammbo_en_ch11.txt', 'salammbo_en_ch12.txt',\n",
    "                    'salammbo_en_ch13.txt', 'salammbo_en_ch14.txt', 'salammbo_en_ch15.txt']\n",
    "french_chapters = ['salammbo_ch01.txt', 'salammbo_ch02.txt', 'salammbo_ch03.txt',\n",
    "                   'salammbo_ch04.txt', 'salammbo_ch05.txt', 'salammbo_ch06.txt',\n",
    "                   'salammbo_ch07.txt', 'salammbo_ch08.txt', 'salammbo_ch09.txt',\n",
    "                   'salammbo_ch10.txt', 'salammbo_ch11.txt', 'salammbo_ch12.txt',\n",
    "                   'salammbo_ch13.txt', 'salammbo_ch14.txt', 'salammbo_ch15.txt']\n",
    "\n",
    "french_labels = [str(i + 1) + '_fr' for i in range(15)]\n",
    "english_labels = [str(i + 1) + '_en' for i in range(15)]\n",
    "y_name = french_labels + english_labels\n",
    "y_name"
   ]
  },
  {
   "cell_type": "markdown",
   "metadata": {},
   "source": [
    "### The document indices"
   ]
  },
  {
   "cell_type": "code",
   "execution_count": null,
   "metadata": {},
   "outputs": [],
   "source": [
    "# We build a doc x char matrix, where each document is represented in the character space.\n",
    "y = french_chapters + english_chapters\n",
    "ec = [base + file for file in english_chapters]\n",
    "fc = [base + file for file in french_chapters]\n",
    "# Document index and reverse index\n",
    "doc_idx, idx_doc = build_idx_from_list(y)\n",
    "print(doc_idx)\n",
    "print(idx_doc)"
   ]
  },
  {
   "cell_type": "markdown",
   "metadata": {},
   "source": [
    "### The counts"
   ]
  },
  {
   "cell_type": "code",
   "execution_count": null,
   "metadata": {},
   "outputs": [],
   "source": [
    "counts_by_chapter = []\n",
    "for file in fc + ec:\n",
    "    text = open(file).read()\n",
    "    counts = count_letters(text)\n",
    "    counts_by_chapter.append(counts)\n",
    "total_counts = merge_dicts(counts_by_chapter)\n",
    "print(total_counts)"
   ]
  },
  {
   "cell_type": "markdown",
   "metadata": {},
   "source": [
    "### The indices"
   ]
  },
  {
   "cell_type": "code",
   "execution_count": null,
   "metadata": {},
   "outputs": [],
   "source": [
    "char_idx, idx_char = build_idx_from_dict(total_counts)\n",
    "# Character index and reverse index\n",
    "print(char_idx)\n",
    "print(idx_char)"
   ]
  },
  {
   "cell_type": "markdown",
   "metadata": {},
   "source": [
    "### The matrices"
   ]
  },
  {
   "cell_type": "code",
   "execution_count": null,
   "metadata": {},
   "outputs": [],
   "source": [
    "X = build_matrix(doc_idx, idx_doc, char_idx, idx_char, counts_by_chapter)\n",
    "print_matrix(idx_doc, idx_char, X)\n",
    "print_matrix(idx_char, idx_doc, X.T)"
   ]
  },
  {
   "cell_type": "markdown",
   "metadata": {},
   "source": [
    "## Scaling the matrices"
   ]
  },
  {
   "cell_type": "code",
   "execution_count": null,
   "metadata": {},
   "outputs": [],
   "source": [
    "mean = np.mean(X[:, 0])\n",
    "std = np.std(X[:, 0])\n",
    "print('mean A:', mean, 'stdev A:', std)\n",
    "print('Original:', X[0, 0], 'Standardized', (X[0, 0] - mean) / std)\n",
    "\n",
    "# Boolean for normalization\n",
    "normalize = True\n",
    "# We scale the matrix\n",
    "# This preprocessing combination seems to have the best results: normalize and standardize\n",
    "if normalize:\n",
    "    X_norm = Normalizer().fit_transform(X)\n",
    "else:\n",
    "    X_norm = X\n",
    "X_scaled = StandardScaler().fit_transform(X_norm)\n"
   ]
  },
  {
   "cell_type": "markdown",
   "metadata": {},
   "source": [
    "## Computation of the PCA with sklearn"
   ]
  },
  {
   "cell_type": "code",
   "execution_count": null,
   "metadata": {},
   "outputs": [],
   "source": [
    "pca = PCA(n_components=3)\n",
    "X_trunc = pca.fit_transform(X_scaled)\n",
    "print(X_trunc)"
   ]
  },
  {
   "cell_type": "markdown",
   "metadata": {},
   "source": [
    "## Visualizing the PCA"
   ]
  },
  {
   "cell_type": "code",
   "execution_count": null,
   "metadata": {},
   "outputs": [],
   "source": [
    "plt.scatter(X_trunc[:, 0], X_trunc[:, 1], s=10)\n",
    "for i in range(len(y_name)):\n",
    "    # plt.plot(X_trunc[i, 0], X_trunc[i, 1], 'o')\n",
    "    plt.annotate(y_name[i], (X_trunc[i, 0], X_trunc[i, 1]), fontsize=8)\n",
    "plt.grid(True)\n",
    "plt.show()\n",
    "fig = plt.figure(1, figsize=(4, 3))\n",
    "plt.clf()\n",
    "ax = Axes3D(fig, rect=[0, 0, .95, 1], elev=48, azim=134)\n",
    "y_color = [0] * 15 + [1] * 15\n",
    "ax.scatter(X_trunc[:, 0], X_trunc[:, 1], X_trunc[:, 2], c=y_color,\n",
    "           edgecolor='k', s=10)\n",
    "for i in range(len(y_name)):\n",
    "    ax.text(X_trunc[i, 0], X_trunc[i, 1], X_trunc[i, 2], y_name[i])\n",
    "plt.show()"
   ]
  },
  {
   "cell_type": "markdown",
   "metadata": {},
   "source": [
    "## Computation of the PCA with numpy"
   ]
  },
  {
   "cell_type": "code",
   "execution_count": null,
   "metadata": {},
   "outputs": [],
   "source": [
    "U, s, Vt = np.linalg.svd(X_scaled, full_matrices=False)\n",
    "print('Shape:', np.shape(U), np.shape(Vt))\n",
    "print('s:', s)\n",
    "print('Length of diag.:', len(s))\n",
    "\n",
    "cumulative_inertia = np.cumsum(s)\n",
    "print('Cumulative inertia:', list(cumulative_inertia))"
   ]
  },
  {
   "cell_type": "markdown",
   "metadata": {},
   "source": [
    "### Visualizing the Inertia"
   ]
  },
  {
   "cell_type": "code",
   "execution_count": null,
   "metadata": {},
   "outputs": [],
   "source": [
    "plt.clf()\n",
    "plt.plot(range(1, len(cumulative_inertia) + 1), cumulative_inertia, '-')\n",
    "plt.show()"
   ]
  },
  {
   "cell_type": "markdown",
   "metadata": {},
   "source": [
    "### The new coordinates"
   ]
  },
  {
   "cell_type": "code",
   "execution_count": null,
   "metadata": {},
   "outputs": [],
   "source": [
    "Us = U @ np.diag(s)\n",
    "# Axes may have opposed orientation. This is to have the same figure\n",
    "I = np.identity(len(s))\n",
    "Us = Us @ (-I)\n",
    "Us"
   ]
  },
  {
   "cell_type": "code",
   "execution_count": null,
   "metadata": {},
   "outputs": [],
   "source": [
    "for i in range(len(y_name)):\n",
    "    plt.plot(Us[i, 0], Us[i, 1], '*', markersize=8)\n",
    "    plt.annotate(y_name[i], (Us[i, 0], Us[i, 1]), fontsize=8)\n",
    "plt.show()\n",
    "fig = plt.figure(1, figsize=(4, 3))\n",
    "plt.clf()\n",
    "ax = Axes3D(fig, rect=[0, 0, .95, 1], elev=48, azim=134)\n",
    "y_color = [0] * 15 + [1] * 15\n",
    "ax.scatter(Us[:, 0], Us[:, 1], Us[:, 2], c=y_color,\n",
    "           edgecolor='k')\n",
    "for i in range(len(y_name)):\n",
    "    ax.text(Us[i, 0], Us[i, 1], Us[i, 2], y_name[i])\n",
    "plt.show()"
   ]
  },
  {
   "cell_type": "markdown",
   "metadata": {},
   "source": [
    "## The char-document matrix: Each character is represented in a space of documents"
   ]
  },
  {
   "cell_type": "code",
   "execution_count": null,
   "metadata": {},
   "outputs": [],
   "source": [
    "yt = list(char_idx.keys())\n",
    "print(yt)\n",
    "X = X.T\n",
    "if normalize:\n",
    "    X_norm = Normalizer().fit_transform(X)\n",
    "else:\n",
    "    X_norm = X\n",
    "X_scaled = StandardScaler().fit_transform(X_norm)\n",
    "# X_std = StandardScaler().fit_transform(X)\n",
    "U, s, Vt = np.linalg.svd(X_scaled, full_matrices=False)\n",
    "Us = U @ np.diag(s)\n",
    "print(Us)\n",
    "plt.grid(True)\n",
    "plt.axis('equal')\n",
    "plt.scatter(Us[:, 0], Us[:, 1], s=3)\n",
    "for i in range(len(yt)):\n",
    "    #plt.plot(Us[i, 0], Us[i, 1], 'bo',markersize=5)\n",
    "    plt.annotate(yt[i], (Us[i, 0], Us[i, 1]))\n",
    "plt.show()\n",
    "\n",
    "fig = plt.figure(1, figsize=(4, 3))\n",
    "plt.clf()\n",
    "ax = Axes3D(fig, rect=[0, 0, .95, 1], elev=48, azim=134)\n",
    "ax.scatter(Us[:, 0], Us[:, 1], Us[:, 2])\n",
    "for i in range(len(yt)):\n",
    "    ax.text(Us[i, 0], Us[i, 1], Us[i, 2], yt[i])\n",
    "plt.show()"
   ]
  }
 ],
 "metadata": {
  "kernelspec": {
   "display_name": "Python 3 (ipykernel)",
   "language": "python",
   "name": "python3"
  },
  "language_info": {
   "codemirror_mode": {
    "name": "ipython",
    "version": 3
   },
   "file_extension": ".py",
   "mimetype": "text/x-python",
   "name": "python",
   "nbconvert_exporter": "python",
   "pygments_lexer": "ipython3",
   "version": "3.8.12"
  }
 },
 "nbformat": 4,
 "nbformat_minor": 4
}
